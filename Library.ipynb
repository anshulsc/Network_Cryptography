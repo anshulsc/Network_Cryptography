{
 "cells": [
  {
   "cell_type": "markdown",
   "id": "4a6d0c58",
   "metadata": {},
   "source": [
    "# Aim\n",
    "\n",
    "Explore various libraries for Symmetric Encryption, Asymmetric Encryption and Hashing the values in Python. No sockets required in this case and to done on same machine in same program. GIve theory about this in markdown"
   ]
  },
  {
   "cell_type": "code",
   "execution_count": 3,
   "id": "6c53c11e",
   "metadata": {},
   "outputs": [
    {
     "name": "stdout",
     "output_type": "stream",
     "text": [
      "Original Message: Your secret message here\n",
      "Symmetric Encrypted Message (Fernet): b'gAAAAABlWvDS9GMbvJJrANR8jXP9_lg8RTNNfWj-EttORnW3phCIHJDFzkO68OuQIXUoEiQ6TmiUHJDuenu3W_OabRewIx0WvMkMiXdM--OVjSylZeufb6g='\n",
      "Symmetric Decrypted Message (Fernet): Your secret message here\n",
      "Asymmetric Encrypted Message (RSA): b\")\\xdf\\x98\\xb7\\xf79\\x97g\\x15\\xe1\\x97\\xe8*Z\\x8fHB\\xd7*\\xbe\\x9deIA\\n'V\\x90\\x05\\x17\\x19\\xc8Tt2?S\\x99\\xb6Q\\x0e\\xb06\\xfd\\x0b;\\x88\\xc0\\x08\\x94\\xfaQ\\xb5\\x96\\x92\\xa7\\xe1\\x83c\\n;\\x1f\\x7f^\\x8e\\n\\xa1\\xa4g\\xbc\\xd7\\x0c)\\xdd:\\x8e\\xdfy\\x96\\x0bW\\xcd\\xe5\\x07\\x06\\x0c\\xa1\\x08\\xaf\\xfaO\\x97\\xef,\\xcb\\xc5H\\x13\\x8b\\xcb\\x98\\xadI\\x91xy\\xeai1\\x18\\xfa8a\\x18v;M\\x91\\xa1\\xfc\\xc1Y\\xa2\\xac\\xf2\\\\\\x92\\xf3\\xa1\\xc5k\\x7fKtw\\x10=1\\x9a\\x1a\\xb5\\xb8\\xf4\\xc5F0]\\x07\\xf9u\\x98\\xc7,wB\\xd7-=\\xf1\\xd9pK`\\x80\\xb8`\\xd7\\xbd\\xa6A\\x88*\\xea\\xea\\xa0\\x1a8i`fa\\xbag\\x16\\x0fN\\x92q\\xb8\\\\w\\xdb\\x8f\\xf9zZ@a\\xf6=lW\\x7f\\xe8~\\xd2&\\x88\\xc0\\x0bf6\\xd4<B\\x186\\xcf\\x18@\\x94Xy\\x82\\xef\\xdbW\\xc0\\xb8\\x19$\\x88P\\x91y\\x92w8K\\xec5E\\xf8\\xac\\x0f\\xf2#e\\x88\\x84\\xe8\\x9d\\xf96\\x84\\x05\"\n",
      "Asymmetric Decrypted Message (RSA): Your secret message here\n",
      "SHA256 Hash Output: d9f398a3d25d7e7e04a7925b2e8f972f2fd2469a4cc2c19601e72aba311bcc2a\n"
     ]
    }
   ],
   "source": [
    "from cryptography.fernet import Fernet\n",
    "from cryptography.hazmat.primitives import hashes\n",
    "from cryptography.hazmat.primitives.asymmetric import rsa\n",
    "from cryptography.hazmat.primitives.asymmetric import padding\n",
    "import hashlib\n",
    "\n",
    "# Generate a symmetric (Fernet) key\n",
    "key = Fernet.generate_key()\n",
    "fernet_cipher = Fernet(key)\n",
    "\n",
    "# Message to encrypt\n",
    "message = b\"Your secret message here\"\n",
    "\n",
    "# Symmetric Encryption (Fernet)\n",
    "encrypted_message = fernet_cipher.encrypt(message)\n",
    "\n",
    "# Symmetric Decryption (Fernet)\n",
    "decrypted_message = fernet_cipher.decrypt(encrypted_message)\n",
    "\n",
    "# Generating RSA key pair\n",
    "private_key = rsa.generate_private_key(public_exponent=65537, key_size=2048)\n",
    "public_key = private_key.public_key()\n",
    "\n",
    "# Asymmetric Encryption (RSA)\n",
    "encrypted_rsa = public_key.encrypt(\n",
    "    message,\n",
    "    padding.OAEP(\n",
    "        mgf=padding.MGF1(algorithm=hashes.SHA256()),\n",
    "        algorithm=hashes.SHA256(),\n",
    "        label=None\n",
    "    )\n",
    ")\n",
    "\n",
    "# Asymmetric Decryption (RSA)\n",
    "decrypted_rsa = private_key.decrypt(\n",
    "    encrypted_rsa,\n",
    "    padding.OAEP(\n",
    "        mgf=padding.MGF1(algorithm=hashes.SHA256()),\n",
    "        algorithm=hashes.SHA256(),\n",
    "        label=None\n",
    "    )\n",
    ")\n",
    "\n",
    "# Hashing using SHA256\n",
    "hash_output = hashlib.sha256(message).hexdigest()\n",
    "\n",
    "print(\"Original Message:\", message.decode())\n",
    "print(\"Symmetric Encrypted Message (Fernet):\", encrypted_message)\n",
    "print(\"Symmetric Decrypted Message (Fernet):\", decrypted_message.decode())\n",
    "print(\"Asymmetric Encrypted Message (RSA):\", encrypted_rsa)\n",
    "print(\"Asymmetric Decrypted Message (RSA):\", decrypted_rsa.decode())\n",
    "print(\"SHA256 Hash Output:\", hash_output)"
   ]
  },
  {
   "cell_type": "code",
   "execution_count": null,
   "id": "0637948b",
   "metadata": {},
   "outputs": [],
   "source": []
  }
 ],
 "metadata": {
  "kernelspec": {
   "display_name": "Python 3.9 (pytorch)",
   "language": "python",
   "name": "pytorch"
  },
  "language_info": {
   "codemirror_mode": {
    "name": "ipython",
    "version": 3
   },
   "file_extension": ".py",
   "mimetype": "text/x-python",
   "name": "python",
   "nbconvert_exporter": "python",
   "pygments_lexer": "ipython3",
   "version": "3.9.16"
  }
 },
 "nbformat": 4,
 "nbformat_minor": 5
}
