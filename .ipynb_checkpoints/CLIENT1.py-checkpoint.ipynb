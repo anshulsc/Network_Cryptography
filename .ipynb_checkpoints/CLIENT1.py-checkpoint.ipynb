{
 "cells": [
  {
   "cell_type": "code",
   "execution_count": null,
   "id": "2df3490d",
   "metadata": {},
   "outputs": [
    {
     "name": "stdout",
     "output_type": "stream",
     "text": [
      "Enter your name: Anshul\n",
      "('192.168.105.202', 53120) : Anshul > Hi, Ansh this side\n",
      "Message Sent: Hi, Ansh this side \n"
     ]
    }
   ],
   "source": [
    "import socket\n",
    "\n",
    "# Caesar cipher functions\n",
    "caesar_encrypt = lambda msg: \"\".join([chr((ord(x) + 3) % 128) for x in msg])\n",
    "caesar_decrypt = lambda cipher: \"\".join([chr((ord(x) - 3) % 128) for x in cipher])\n",
    "\n",
    "PORT = 12398\n",
    "HEADER = 64\n",
    "FORMAT = \"utf-8\"\n",
    "DISCONNECT_MESSAGE = \"!DISCONNECT\"\n",
    "SERVER = \"192.168.105.202\"\n",
    "ADDR = (SERVER, PORT)\n",
    "\n",
    "client = socket.socket(socket.AF_INET, socket.SOCK_STREAM)\n",
    "client.connect(ADDR)\n",
    "\n",
    "def send(msg, encrypt_method):\n",
    "    print(f'Message Sent: {msg} ')\n",
    "    \n",
    "    # Apply Caesar cipher\n",
    "    encrypted_msg = encrypt_method(msg)\n",
    "    \n",
    "    message = encrypted_msg.encode(FORMAT)\n",
    "    msg_length = len(message)\n",
    "    send_length = str(msg_length).encode(FORMAT)\n",
    "    send_length += b' ' * (HEADER - len(send_length))\n",
    "    client.send(send_length)\n",
    "    client.send(message)\n",
    "\n",
    "connectd = True\n",
    "name = input(\"Enter your name: \")\n",
    "while connectd:\n",
    "    \n",
    "    msg = input(f'{client.getsockname()} : {name} > ')\n",
    "    \n",
    "    send(msg, caesar_encrypt)  # Use Caesar cipher\n",
    "    \n",
    "    if msg == DISCONNECT_MESSAGE:\n",
    "        send(DISCONNECT_MESSAGE, casear_encrypt)  # Use RSA encryption for the disconnect message\n",
    "        connectd = False\n"
   ]
  },
  {
   "cell_type": "code",
   "execution_count": null,
   "id": "e465b1c3",
   "metadata": {},
   "outputs": [],
   "source": [
    "import socket\n",
    "\n",
    "# Caesar cipher functions\n",
    "caesar_encrypt = lambda msg: \"\".join([chr((ord(x) + 3) % 128) for x in msg])\n",
    "caesar_decrypt = lambda cipher: \"\".join([chr((ord(x) - 3) % 128) for x in cipher])\n",
    "\n",
    "PORT = 12398\n",
    "HEADER = 64\n",
    "FORMAT = \"utf-8\"\n",
    "DISCONNECT_MESSAGE = \"!DISCONNECT\"\n",
    "SERVER = \"192.168.105.202\"\n",
    "ADDR = (SERVER, PORT)\n",
    "\n",
    "client = socket.socket(socket.AF_INET, socket.SOCK_STREAM)\n",
    "client.connect(ADDR)\n",
    "\n",
    "def send(msg, encrypt_method):\n",
    "    print(f'Message Sent: {msg} ')\n",
    "    \n",
    "    # Apply Caesar cipher\n",
    "    encrypted_msg = encrypt_method(msg)\n",
    "    \n",
    "    message = encrypted_msg.encode(FORMAT)\n",
    "    msg_length = len(message)\n",
    "    send_length = str(msg_length).encode(FORMAT)\n",
    "    send_length += b' ' * (HEADER - len(send_length))\n",
    "    client.send(send_length)\n",
    "    client.send(message)\n",
    "\n",
    "connectd = True\n",
    "name = input(\"Enter your name: \")\n",
    "while connectd:\n",
    "    \n",
    "    msg = input(f'{client.getsockname()} : {name} > ')\n",
    "    \n",
    "    send(msg, caesar_encrypt)  # Use Caesar cipher\n",
    "    \n",
    "    if msg == DISCONNECT_MESSAGE:\n",
    "        send(DISCONNECT_MESSAGE, casear_encrypt)  # Use RSA encryption for the disconnect message\n",
    "        connectd = False\n"
   ]
  },
  {
   "cell_type": "code",
   "execution_count": null,
   "id": "df1fe7f4",
   "metadata": {},
   "outputs": [],
   "source": []
  }
 ],
 "metadata": {
  "kernelspec": {
   "display_name": "Python 3.9 (pytorch)",
   "language": "python",
   "name": "pytorch"
  },
  "language_info": {
   "codemirror_mode": {
    "name": "ipython",
    "version": 3
   },
   "file_extension": ".py",
   "mimetype": "text/x-python",
   "name": "python",
   "nbconvert_exporter": "python",
   "pygments_lexer": "ipython3",
   "version": "3.9.16"
  }
 },
 "nbformat": 4,
 "nbformat_minor": 5
}
