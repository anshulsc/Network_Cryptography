{
 "cells": [
  {
   "cell_type": "code",
   "execution_count": null,
   "id": "e4f57ec7",
   "metadata": {},
   "outputs": [
    {
     "name": "stdout",
     "output_type": "stream",
     "text": [
      "b'PFstSTdqTmt48_RIhYhCDPnJgT_9-BlbNh_kXtT_caU='\n"
     ]
    }
   ],
   "source": [
    "import socket\n",
    "import pickle\n",
    "import hashlib\n",
    "from cryptography.hazmat.primitives import hashes\n",
    "from cryptography.hazmat.primitives.asymmetric import rsa\n",
    "from cryptography.hazmat.primitives.asymmetric import padding\n",
    "from cryptography.hazmat.primitives import serialization\n",
    "import hashlib\n",
    "from cryptography.fernet import Fernet\n",
    "\n",
    "sha256_hash = hashlib.sha256()\n",
    "key = b'PFstSTdqTmt48_RIhYhCDPnJgT_9-BlbNh_kXtT_caU='\n",
    "cipher_suite = Fernet(key)\n",
    "\n",
    "\n",
    "PORT = 12329\n",
    "HEADER = 64\n",
    "FORMAT = \"utf-8\"\n",
    "DISCONNECT_MESSAGE = \"!DISCONNECT\"\n",
    "SERVER = \"192.168.105.202\" \n",
    "ADDR = (SERVER, PORT)\n",
    "\n",
    "\n",
    "client = socket.socket(socket.AF_INET, socket.SOCK_STREAM)\n",
    "client.connect(ADDR)\n",
    "\n",
    "\n",
    "def send(msg,sig):\n",
    "    message = msg\n",
    "    print(f'Message Sent :{message} ')\n",
    "    serialized_data = pickle.dumps((message,sig))\n",
    "    msg_length = len(serialized_data)  #Gets the length of the message\n",
    "    send_length = str(msg_length).encode(FORMAT) # Encodes the length of the message\n",
    "    send_length += b' ' * (HEADER - len(send_length)) # Adds spaces to the length of the message\n",
    "    client.send(send_length)\n",
    "    client.send(serialized_data) \n",
    "\n",
    "\n",
    "# Recieving Server Public Key\n",
    "server_public_key = client.recv(1024)\n",
    "server_public_key = serialization.load_pem_public_key(pickle.loads(server_public_key))\n",
    "\n",
    "# Generate RSA key pair for the server\n",
    "client_private_key = rsa.generate_private_key(\n",
    "    public_exponent=65537,\n",
    "    key_size=2048,\n",
    ")\n",
    "# Serialize the public key for sharing with the client\n",
    "client_public_key = client_private_key.public_key().public_bytes(\n",
    "    encoding=serialization.Encoding.PEM,\n",
    "    format=serialization.PublicFormat.SubjectPublicKeyInfo,\n",
    ")\n",
    "serialized_data = pickle.dumps(client_public_key)\n",
    "client.send(serialized_data) # Sharing client public key\n",
    "\n",
    "connectd = True\n",
    "name = input(\"Enter your name: \")\n",
    "while connectd:\n",
    "    msg = input(f'{client.getsockname()} : {name} > ')\n",
    "    hashed_message = hashlib.sha256(msg.encode(FORMAT)).digest()\n",
    "    signature = client_private_key.sign(\n",
    "        hashed_message,\n",
    "        padding.PSS(\n",
    "            mgf=padding.MGF1(hashes.SHA256()),\n",
    "            salt_length=padding.PSS.MAX_LENGTH\n",
    "        ),\n",
    "        hashes.SHA256()\n",
    "    )\n",
    "    send(cipher_suite.encrypt(msg.encode(FORMAT)), signature)\n",
    "    if msg == DISCONNECT_MESSAGE:\n",
    "        send(DISCONNECT_MESSAGE)\n",
    "        connectd = False\n"
   ]
  },
  {
   "cell_type": "code",
   "execution_count": null,
   "id": "522a07f0",
   "metadata": {},
   "outputs": [],
   "source": []
  },
  {
   "cell_type": "code",
   "execution_count": null,
   "id": "647811ee",
   "metadata": {},
   "outputs": [],
   "source": []
  },
  {
   "cell_type": "code",
   "execution_count": null,
   "id": "af6b342d",
   "metadata": {},
   "outputs": [],
   "source": []
  }
 ],
 "metadata": {
  "kernelspec": {
   "display_name": "Python 3.9 (pytorch)",
   "language": "python",
   "name": "pytorch"
  },
  "language_info": {
   "codemirror_mode": {
    "name": "ipython",
    "version": 3
   },
   "file_extension": ".py",
   "mimetype": "text/x-python",
   "name": "python",
   "nbconvert_exporter": "python",
   "pygments_lexer": "ipython3",
   "version": "3.9.16"
  }
 },
 "nbformat": 4,
 "nbformat_minor": 5
}
